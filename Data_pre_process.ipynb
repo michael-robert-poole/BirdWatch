{
 "cells": [
  {
   "cell_type": "code",
   "execution_count": 12,
   "id": "eea9f366-16a6-488d-84a4-2ec08b4256c7",
   "metadata": {},
   "outputs": [],
   "source": [
    "import os\n",
    "import cv2\n",
    "import numpy as np"
   ]
  },
  {
   "cell_type": "code",
   "execution_count": 13,
   "id": "8783cd56-be4a-421e-936f-dbb8e807f67b",
   "metadata": {},
   "outputs": [],
   "source": [
    "images = []\n",
    "labels = []\n",
    "label = 0\n",
    "name=[]\n",
    "\n",
    "parent_folder = os.listdir(\"birds\")\n",
    "\n",
    "for f in parent_folder:\n",
    "    sub_folder=os.listdir(\"birds/\"+f)\n",
    "    name.append(f)\n",
    "    for image in sub_folder:\n",
    "        \n",
    "        theImage=cv2.imread(\"birds/\"+f+\"/\"+image)\n",
    "        images.append(theImage)\n",
    "        labels.append(label)\n",
    "    label=label+1"
   ]
  },
  {
   "cell_type": "code",
   "execution_count": 14,
   "id": "44f2a4ce-aaae-43e0-b14e-9532fdc17a43",
   "metadata": {},
   "outputs": [],
   "source": [
    "data=[]\n",
    "for i in range(len(images)):\n",
    "    data.append([images[i], labels[i], 0])"
   ]
  },
  {
   "cell_type": "code",
   "execution_count": 15,
   "id": "dc44b14d-d200-460f-9f2d-82e7cac12d1c",
   "metadata": {},
   "outputs": [
    {
     "name": "stderr",
     "output_type": "stream",
     "text": [
      "/tmp/ipykernel_15253/4033938161.py:2: VisibleDeprecationWarning: Creating an ndarray from ragged nested sequences (which is a list-or-tuple of lists-or-tuples-or ndarrays with different lengths or shapes) is deprecated. If you meant to do this, you must specify 'dtype=object' when creating the ndarray\n",
      "  data=np.array(data)\n",
      "/tmp/ipykernel_15253/4033938161.py:3: VisibleDeprecationWarning: Creating an ndarray from ragged nested sequences (which is a list-or-tuple of lists-or-tuples-or ndarrays with different lengths or shapes) is deprecated. If you meant to do this, you must specify 'dtype=object' when creating the ndarray\n",
      "  images=np.array(images)\n"
     ]
    }
   ],
   "source": [
    "import numpy as np\n",
    "data=np.array(data)\n",
    "images=np.array(images)\n",
    "labels=np.array(labels)\n",
    "name=np.array(name)\n",
    "np.save(\"np_arrays/images_and_labels.npy\", data)\n",
    "np.save(\"np_arrays/images.npy\", images)\n",
    "np.save(\"np_arrays/labels.npy\", labels)\n",
    "np.save(\"np_arrays//name.npy\", name)"
   ]
  },
  {
   "cell_type": "code",
   "execution_count": 16,
   "id": "9a484bdc-f7e3-4b75-9b3d-729090bd7742",
   "metadata": {},
   "outputs": [],
   "source": [
    "# d=np.load(\"./labels.npy\", allow_pickle=True)"
   ]
  },
  {
   "cell_type": "code",
   "execution_count": 6,
   "id": "0e72a924-ef28-436c-8e57-eba394052ce7",
   "metadata": {},
   "outputs": [
    {
     "ename": "NameError",
     "evalue": "name 'd' is not defined",
     "output_type": "error",
     "traceback": [
      "\u001b[0;31m---------------------------------------------------------------------------\u001b[0m",
      "\u001b[0;31mNameError\u001b[0m                                 Traceback (most recent call last)",
      "\u001b[0;32m/tmp/ipykernel_15253/3303154837.py\u001b[0m in \u001b[0;36m<module>\u001b[0;34m\u001b[0m\n\u001b[0;32m----> 1\u001b[0;31m \u001b[0mnp\u001b[0m\u001b[0;34m.\u001b[0m\u001b[0munique\u001b[0m\u001b[0;34m(\u001b[0m\u001b[0md\u001b[0m\u001b[0;34m,\u001b[0m \u001b[0mreturn_counts\u001b[0m\u001b[0;34m=\u001b[0m\u001b[0;32mTrue\u001b[0m\u001b[0;34m)\u001b[0m\u001b[0;34m\u001b[0m\u001b[0;34m\u001b[0m\u001b[0m\n\u001b[0m",
      "\u001b[0;31mNameError\u001b[0m: name 'd' is not defined"
     ]
    }
   ],
   "source": [
    "# np.unique(d, return_counts=True)"
   ]
  },
  {
   "cell_type": "code",
   "execution_count": 17,
   "id": "3cd9b473-1a6b-4f74-9ec4-985540a3225d",
   "metadata": {},
   "outputs": [],
   "source": [
    "import pandas as pd"
   ]
  },
  {
   "cell_type": "code",
   "execution_count": 18,
   "id": "24e61aad-53f9-4bab-89d1-fbfb098e12c6",
   "metadata": {},
   "outputs": [],
   "source": [
    "pd_data=pd.DataFrame(data, columns=[\"Image\", \"Label\", \"Image_Quality\"])"
   ]
  },
  {
   "cell_type": "code",
   "execution_count": 19,
   "id": "e5d8cc77-cc7e-4e49-b0bd-15bdac2b64ec",
   "metadata": {},
   "outputs": [
    {
     "data": {
      "text/html": [
       "<div>\n",
       "<style scoped>\n",
       "    .dataframe tbody tr th:only-of-type {\n",
       "        vertical-align: middle;\n",
       "    }\n",
       "\n",
       "    .dataframe tbody tr th {\n",
       "        vertical-align: top;\n",
       "    }\n",
       "\n",
       "    .dataframe thead th {\n",
       "        text-align: right;\n",
       "    }\n",
       "</style>\n",
       "<table border=\"1\" class=\"dataframe\">\n",
       "  <thead>\n",
       "    <tr style=\"text-align: right;\">\n",
       "      <th></th>\n",
       "      <th>Image</th>\n",
       "      <th>Label</th>\n",
       "      <th>Image_Quality</th>\n",
       "    </tr>\n",
       "  </thead>\n",
       "  <tbody>\n",
       "    <tr>\n",
       "      <th>0</th>\n",
       "      <td>[[[197, 206, 210], [199, 208, 212], [204, 213,...</td>\n",
       "      <td>0</td>\n",
       "      <td>0</td>\n",
       "    </tr>\n",
       "    <tr>\n",
       "      <th>1</th>\n",
       "      <td>[[[35, 95, 64], [35, 95, 64], [38, 95, 64], [3...</td>\n",
       "      <td>0</td>\n",
       "      <td>0</td>\n",
       "    </tr>\n",
       "    <tr>\n",
       "      <th>2</th>\n",
       "      <td>[[[14, 24, 18], [6, 16, 10], [2, 9, 4], [0, 7,...</td>\n",
       "      <td>0</td>\n",
       "      <td>0</td>\n",
       "    </tr>\n",
       "    <tr>\n",
       "      <th>3</th>\n",
       "      <td>[[[137, 137, 131], [138, 138, 132], [141, 138,...</td>\n",
       "      <td>0</td>\n",
       "      <td>0</td>\n",
       "    </tr>\n",
       "    <tr>\n",
       "      <th>4</th>\n",
       "      <td>[[[232, 230, 219], [232, 230, 219], [232, 230,...</td>\n",
       "      <td>0</td>\n",
       "      <td>0</td>\n",
       "    </tr>\n",
       "  </tbody>\n",
       "</table>\n",
       "</div>"
      ],
      "text/plain": [
       "                                               Image Label Image_Quality\n",
       "0  [[[197, 206, 210], [199, 208, 212], [204, 213,...     0             0\n",
       "1  [[[35, 95, 64], [35, 95, 64], [38, 95, 64], [3...     0             0\n",
       "2  [[[14, 24, 18], [6, 16, 10], [2, 9, 4], [0, 7,...     0             0\n",
       "3  [[[137, 137, 131], [138, 138, 132], [141, 138,...     0             0\n",
       "4  [[[232, 230, 219], [232, 230, 219], [232, 230,...     0             0"
      ]
     },
     "execution_count": 19,
     "metadata": {},
     "output_type": "execute_result"
    }
   ],
   "source": [
    "pd_data.head()"
   ]
  },
  {
   "cell_type": "code",
   "execution_count": null,
   "id": "8983e347-7a15-4aaf-a5e1-eecd8b8accf4",
   "metadata": {},
   "outputs": [],
   "source": []
  }
 ],
 "metadata": {
  "kernelspec": {
   "display_name": "Python 3 (ipykernel)",
   "language": "python",
   "name": "python3"
  },
  "language_info": {
   "codemirror_mode": {
    "name": "ipython",
    "version": 3
   },
   "file_extension": ".py",
   "mimetype": "text/x-python",
   "name": "python",
   "nbconvert_exporter": "python",
   "pygments_lexer": "ipython3",
   "version": "3.8.10"
  }
 },
 "nbformat": 4,
 "nbformat_minor": 5
}
