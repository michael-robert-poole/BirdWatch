{
 "cells": [
  {
   "cell_type": "code",
   "execution_count": 2,
   "id": "eea9f366-16a6-488d-84a4-2ec08b4256c7",
   "metadata": {},
   "outputs": [],
   "source": [
    "import os\n",
    "import cv2\n",
    "import numpy as np\n",
    "import pandas as pd"
   ]
  },
  {
   "cell_type": "code",
   "execution_count": 3,
   "id": "8783cd56-be4a-421e-936f-dbb8e807f67b",
   "metadata": {},
   "outputs": [],
   "source": [
    "images = []\n",
    "labels = []\n",
    "label = 0\n",
    "name=[]\n",
    "\n",
    "parent_folder = os.listdir(\"birds\")\n",
    "\n",
    "for f in parent_folder:\n",
    "    sub_folder=os.listdir(\"birds/\"+f)\n",
    "    name.append(f)\n",
    "    for image in sub_folder:\n",
    "        \n",
    "        theImage=cv2.imread(\"birds/\"+f+\"/\"+image)\n",
    "        images.append(theImage)\n",
    "        labels.append(label)\n",
    "    label=label+1"
   ]
  },
  {
   "cell_type": "code",
   "execution_count": 7,
   "id": "44f2a4ce-aaae-43e0-b14e-9532fdc17a43",
   "metadata": {},
   "outputs": [],
   "source": [
    "data=[]\n",
    "for i in range(len(images)):\n",
    "    data.append([images[i], labels[i], 0])"
   ]
  },
  {
   "cell_type": "code",
   "execution_count": 8,
   "id": "dc44b14d-d200-460f-9f2d-82e7cac12d1c",
   "metadata": {},
   "outputs": [
    {
     "name": "stderr",
     "output_type": "stream",
     "text": [
      "/tmp/ipykernel_8738/1297331963.py:1: VisibleDeprecationWarning: Creating an ndarray from ragged nested sequences (which is a list-or-tuple of lists-or-tuples-or ndarrays with different lengths or shapes) is deprecated. If you meant to do this, you must specify 'dtype=object' when creating the ndarray\n",
      "  data=np.array(data)\n",
      "/tmp/ipykernel_8738/1297331963.py:2: VisibleDeprecationWarning: Creating an ndarray from ragged nested sequences (which is a list-or-tuple of lists-or-tuples-or ndarrays with different lengths or shapes) is deprecated. If you meant to do this, you must specify 'dtype=object' when creating the ndarray\n",
      "  images=np.array(images)\n"
     ]
    }
   ],
   "source": [
    "\n",
    "data=np.array(data)\n",
    "images=np.array(images)\n",
    "labels=np.array(labels)\n",
    "name=np.array(name)\n",
    "# np.save(\"np_arrays/images_and_labels.npy\", data)\n",
    "# np.save(\"np_arrays/images.npy\", images)\n",
    "# np.save(\"np_arrays/labels.npy\", labels)\n",
    "# np.save(\"np_arrays//name.npy\", name)"
   ]
  },
  {
   "cell_type": "code",
   "execution_count": null,
   "id": "3cd9b473-1a6b-4f74-9ec4-985540a3225d",
   "metadata": {},
   "outputs": [],
   "source": []
  },
  {
   "cell_type": "code",
   "execution_count": 9,
   "id": "24e61aad-53f9-4bab-89d1-fbfb098e12c6",
   "metadata": {},
   "outputs": [],
   "source": [
    "pd_data=pd.DataFrame(data, columns=[\"Label\", \"Image_Quality\"])"
   ]
  },
  {
   "cell_type": "code",
   "execution_count": 10,
   "id": "e5d8cc77-cc7e-4e49-b0bd-15bdac2b64ec",
   "metadata": {},
   "outputs": [
    {
     "data": {
      "text/html": [
       "<div>\n",
       "<style scoped>\n",
       "    .dataframe tbody tr th:only-of-type {\n",
       "        vertical-align: middle;\n",
       "    }\n",
       "\n",
       "    .dataframe tbody tr th {\n",
       "        vertical-align: top;\n",
       "    }\n",
       "\n",
       "    .dataframe thead th {\n",
       "        text-align: right;\n",
       "    }\n",
       "</style>\n",
       "<table border=\"1\" class=\"dataframe\">\n",
       "  <thead>\n",
       "    <tr style=\"text-align: right;\">\n",
       "      <th></th>\n",
       "      <th>Image</th>\n",
       "      <th>Label</th>\n",
       "      <th>Image_Quality</th>\n",
       "    </tr>\n",
       "  </thead>\n",
       "  <tbody>\n",
       "    <tr>\n",
       "      <th>0</th>\n",
       "      <td>[[[197, 206, 210], [199, 208, 212], [204, 213,...</td>\n",
       "      <td>0</td>\n",
       "      <td>0</td>\n",
       "    </tr>\n",
       "    <tr>\n",
       "      <th>1</th>\n",
       "      <td>[[[35, 95, 64], [35, 95, 64], [38, 95, 64], [3...</td>\n",
       "      <td>0</td>\n",
       "      <td>0</td>\n",
       "    </tr>\n",
       "    <tr>\n",
       "      <th>2</th>\n",
       "      <td>[[[14, 24, 18], [6, 16, 10], [2, 9, 4], [0, 7,...</td>\n",
       "      <td>0</td>\n",
       "      <td>0</td>\n",
       "    </tr>\n",
       "    <tr>\n",
       "      <th>3</th>\n",
       "      <td>[[[137, 137, 131], [138, 138, 132], [141, 138,...</td>\n",
       "      <td>0</td>\n",
       "      <td>0</td>\n",
       "    </tr>\n",
       "    <tr>\n",
       "      <th>4</th>\n",
       "      <td>[[[232, 230, 219], [232, 230, 219], [232, 230,...</td>\n",
       "      <td>0</td>\n",
       "      <td>0</td>\n",
       "    </tr>\n",
       "  </tbody>\n",
       "</table>\n",
       "</div>"
      ],
      "text/plain": [
       "                                               Image Label Image_Quality\n",
       "0  [[[197, 206, 210], [199, 208, 212], [204, 213,...     0             0\n",
       "1  [[[35, 95, 64], [35, 95, 64], [38, 95, 64], [3...     0             0\n",
       "2  [[[14, 24, 18], [6, 16, 10], [2, 9, 4], [0, 7,...     0             0\n",
       "3  [[[137, 137, 131], [138, 138, 132], [141, 138,...     0             0\n",
       "4  [[[232, 230, 219], [232, 230, 219], [232, 230,...     0             0"
      ]
     },
     "execution_count": 10,
     "metadata": {},
     "output_type": "execute_result"
    }
   ],
   "source": [
    "pd_data.head()"
   ]
  },
  {
   "cell_type": "code",
   "execution_count": 11,
   "id": "8983e347-7a15-4aaf-a5e1-eecd8b8accf4",
   "metadata": {},
   "outputs": [],
   "source": [
    "pd_data.to_csv('np_arrays/pd_data.csv')"
   ]
  },
  {
   "cell_type": "code",
   "execution_count": 12,
   "id": "b0fa7977-2968-46b3-9a5f-b152ef964647",
   "metadata": {},
   "outputs": [],
   "source": [
    "x = pd.read_csv('np_arrays/pd_data.csv')"
   ]
  },
  {
   "cell_type": "code",
   "execution_count": 29,
   "id": "23d0ff9f-8be0-43f5-a4e3-1edee96bcfff",
   "metadata": {},
   "outputs": [
    {
     "ename": "TypeError",
     "evalue": "Can't convert object of type 'numpy.ndarray' to 'str' for 'filename'",
     "output_type": "error",
     "traceback": [
      "\u001b[0;31m---------------------------------------------------------------------------\u001b[0m",
      "\u001b[0;31mTypeError\u001b[0m                                 Traceback (most recent call last)",
      "\u001b[0;32m/tmp/ipykernel_8738/3642031108.py\u001b[0m in \u001b[0;36m<module>\u001b[0;34m\u001b[0m\n\u001b[1;32m      1\u001b[0m \u001b[0mi\u001b[0m \u001b[0;34m=\u001b[0m \u001b[0;34m[\u001b[0m\u001b[0;34m]\u001b[0m\u001b[0;34m\u001b[0m\u001b[0;34m\u001b[0m\u001b[0m\n\u001b[1;32m      2\u001b[0m \u001b[0;32mfor\u001b[0m \u001b[0mk\u001b[0m \u001b[0;32min\u001b[0m \u001b[0mx\u001b[0m\u001b[0;34m[\u001b[0m\u001b[0;34m'Image'\u001b[0m\u001b[0;34m]\u001b[0m\u001b[0;34m:\u001b[0m\u001b[0;34m\u001b[0m\u001b[0;34m\u001b[0m\u001b[0m\n\u001b[0;32m----> 3\u001b[0;31m     \u001b[0ms\u001b[0m \u001b[0;34m=\u001b[0m \u001b[0mcv2\u001b[0m\u001b[0;34m.\u001b[0m\u001b[0mimread\u001b[0m\u001b[0;34m(\u001b[0m\u001b[0mnp\u001b[0m\u001b[0;34m.\u001b[0m\u001b[0marray\u001b[0m\u001b[0;34m(\u001b[0m\u001b[0mk\u001b[0m\u001b[0;34m)\u001b[0m\u001b[0;34m)\u001b[0m\u001b[0;34m\u001b[0m\u001b[0;34m\u001b[0m\u001b[0m\n\u001b[0m\u001b[1;32m      4\u001b[0m     \u001b[0mprint\u001b[0m\u001b[0;34m(\u001b[0m\u001b[0ms\u001b[0m\u001b[0;34m)\u001b[0m\u001b[0;34m\u001b[0m\u001b[0;34m\u001b[0m\u001b[0m\n\u001b[1;32m      5\u001b[0m     \u001b[0mi\u001b[0m\u001b[0;34m.\u001b[0m\u001b[0mappend\u001b[0m\u001b[0;34m(\u001b[0m\u001b[0ms\u001b[0m\u001b[0;34m)\u001b[0m\u001b[0;34m\u001b[0m\u001b[0;34m\u001b[0m\u001b[0m\n",
      "\u001b[0;31mTypeError\u001b[0m: Can't convert object of type 'numpy.ndarray' to 'str' for 'filename'"
     ]
    }
   ],
   "source": [
    "i = []\n",
    "for k in x['Image']:\n",
    "    s = cv2.imread(np.array(k))\n",
    "    print(s)\n",
    "    i.append(s)\n",
    "    j=1\n",
    "    if j == 1:\n",
    "        break"
   ]
  },
  {
   "cell_type": "code",
   "execution_count": 25,
   "id": "f2fbaf58-b9c7-4636-b22b-169cb3f1de7a",
   "metadata": {},
   "outputs": [],
   "source": [
    "import matplotlib.pyplot as plt"
   ]
  },
  {
   "cell_type": "code",
   "execution_count": 26,
   "id": "9be9bb59-476c-4ebf-a16a-bf555078ffd8",
   "metadata": {},
   "outputs": [
    {
     "name": "stdout",
     "output_type": "stream",
     "text": [
      "[None]\n"
     ]
    }
   ],
   "source": [
    "print(i)"
   ]
  },
  {
   "cell_type": "code",
   "execution_count": null,
   "id": "cd013e3f-c5c8-44e7-84ac-79af1f1d56d2",
   "metadata": {},
   "outputs": [],
   "source": []
  }
 ],
 "metadata": {
  "kernelspec": {
   "display_name": "Python 3 (ipykernel)",
   "language": "python",
   "name": "python3"
  },
  "language_info": {
   "codemirror_mode": {
    "name": "ipython",
    "version": 3
   },
   "file_extension": ".py",
   "mimetype": "text/x-python",
   "name": "python",
   "nbconvert_exporter": "python",
   "pygments_lexer": "ipython3",
   "version": "3.8.10"
  }
 },
 "nbformat": 4,
 "nbformat_minor": 5
}
