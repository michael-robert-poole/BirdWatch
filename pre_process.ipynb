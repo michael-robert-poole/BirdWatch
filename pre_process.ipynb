{
 "cells": [
  {
   "cell_type": "code",
   "execution_count": 2,
   "id": "de14d675-60a1-475e-b64b-0b0a5af54c0c",
   "metadata": {},
   "outputs": [
    {
     "name": "stderr",
     "output_type": "stream",
     "text": [
      "2021-11-05 09:45:29.101356: W tensorflow/stream_executor/platform/default/dso_loader.cc:64] Could not load dynamic library 'libcudart.so.11.0'; dlerror: libcudart.so.11.0: cannot open shared object file: No such file or directory\n",
      "2021-11-05 09:45:29.101382: I tensorflow/stream_executor/cuda/cudart_stub.cc:29] Ignore above cudart dlerror if you do not have a GPU set up on your machine.\n",
      "/usr/lib/python3/dist-packages/requests/__init__.py:89: RequestsDependencyWarning: urllib3 (1.26.7) or chardet (3.0.4) doesn't match a supported version!\n",
      "  warnings.warn(\"urllib3 ({}) or chardet ({}) doesn't match a supported \"\n"
     ]
    }
   ],
   "source": [
    "import tensorflow as tf\n",
    "from tensorflow import keras\n",
    "from keras import layers\n",
    "from keras.layers import Conv2D, MaxPooling2D, BatchNormalization, Activation, Flatten, Dense, Dropout"
   ]
  },
  {
   "cell_type": "code",
   "execution_count": 9,
   "id": "944a3739-7b72-4299-9dd8-eb4a3a8886a4",
   "metadata": {},
   "outputs": [
    {
     "name": "stdout",
     "output_type": "stream",
     "text": [
      "Found 500 files belonging to 10 classes.\n",
      "Using 400 files for training.\n"
     ]
    }
   ],
   "source": [
    "train=tf.keras.preprocessing.image_dataset_from_directory(\"all_birds\", labels=\"inferred\", label_mode=\"categorical\", subset=\"training\", seed=133, validation_split=0.2, image_size=(256,256))"
   ]
  },
  {
   "cell_type": "code",
   "execution_count": 54,
   "id": "6bd13e94-8f67-4190-a067-a1b04cf12454",
   "metadata": {},
   "outputs": [
    {
     "name": "stdout",
     "output_type": "stream",
     "text": [
      "Found 500 files belonging to 10 classes.\n",
      "Using 100 files for validation.\n"
     ]
    }
   ],
   "source": [
    " val_ds = keras.preprocessing.image_dataset_from_directory(\n",
    "    directory=\"all_birds\",\n",
    "    image_size=[256,256],\n",
    "    validation_split=0.2,\n",
    "    seed=133,\n",
    "    subset='validation',\n",
    "    label_mode='categorical',\n",
    "    shuffle=False\n",
    "  )"
   ]
  },
  {
   "cell_type": "code",
   "execution_count": 59,
   "id": "c510b2d2-8909-46af-9783-e966e7504c04",
   "metadata": {},
   "outputs": [],
   "source": []
  },
  {
   "cell_type": "code",
   "execution_count": 68,
   "id": "0c20005d-f0b4-47c8-9530-0ebddbd8819e",
   "metadata": {},
   "outputs": [
    {
     "ename": "AttributeError",
     "evalue": "'_NumpyIterator' object has no attribute 'shape'",
     "output_type": "error",
     "traceback": [
      "\u001b[0;31m---------------------------------------------------------------------------\u001b[0m",
      "\u001b[0;31mAttributeError\u001b[0m                            Traceback (most recent call last)",
      "\u001b[0;32m/tmp/ipykernel_15852/3651110460.py\u001b[0m in \u001b[0;36m<module>\u001b[0;34m\u001b[0m\n\u001b[0;32m----> 1\u001b[0;31m \u001b[0mval_ds_np\u001b[0m\u001b[0;34m.\u001b[0m\u001b[0mshape\u001b[0m\u001b[0;34m(\u001b[0m\u001b[0;34m)\u001b[0m\u001b[0;34m\u001b[0m\u001b[0;34m\u001b[0m\u001b[0m\n\u001b[0m",
      "\u001b[0;31mAttributeError\u001b[0m: '_NumpyIterator' object has no attribute 'shape'"
     ]
    }
   ],
   "source": []
  },
  {
   "cell_type": "code",
   "execution_count": 4,
   "id": "9a241883-eae8-4c58-9d5b-1567947e54dd",
   "metadata": {},
   "outputs": [
    {
     "name": "stdout",
     "output_type": "stream",
     "text": [
      "Found 100 files belonging to 10 classes.\n"
     ]
    }
   ],
   "source": [
    "test=tf.keras.preprocessing.image_dataset_from_directory(\"val_ten_uk_birds/\", labels=\"inferred\", label_mode=\"categorical\")"
   ]
  },
  {
   "cell_type": "code",
   "execution_count": 5,
   "id": "081bc8b9-9e13-4639-931e-01ed20950065",
   "metadata": {},
   "outputs": [],
   "source": [
    "# %load bird_info.py\n",
    "# import tensorflow as tf\n",
    "# from tensorflow import keras\n",
    "# import matplotlib.pyplot as plt\n",
    "# import numpy as np\n",
    "\n",
    "# class Bird_info:\n",
    "    \n",
    "#     COMMON_NAME=[\"Wood Pigeon\", \"Long-Tailed Tit\",\"Eurasian Magpie\",\"European Goldfinch\",\"European Robin\",\"Eurasian Blue Tit\",\"Great Tit\",\"House Sparrow\",\"Common Starling\"\n",
    "#                  ,\"Common Blackbird\"]\n",
    "#     LATIN_NAME=[\"Columba palumbus\", \"Aegithalos caudatus\", \"Pica pica\", \"Carduelis carduelis\", \"Erithacus_rubecula\", \"Cyanistes caeruleus\", \"Parus major\", \"Passer_domesticus\"\n",
    "#                 , \"Sturnus vulgaris\", \"Turdus merula\"]\n",
    "\n",
    "    \n",
    "   \n",
    "#     def visualise_images(self, latin=False):\n",
    "#         names = self.LATIN_NAME if latin else self.COMMON_NAME\n",
    "        \n",
    "#         plt.figure(figsize=(30, 30))\n",
    "#         for images, categories in train.take(1):\n",
    "#             for i in range(9):\n",
    "#                 ax = plt.subplot(3, 3, i + 1)\n",
    "#                 plt.imshow(images[i].numpy().astype(\"uint8\"))\n",
    "#                 class_index = np.where(categories[i].numpy()==1)\n",
    "#                 plt.title(names[int(class_index[0])])\n",
    "#                 plt.axis(\"off\")\n",
    "\n",
    "                "
   ]
  },
  {
   "cell_type": "code",
   "execution_count": 6,
   "id": "82f70196-6939-4288-85d0-312112ed6f9a",
   "metadata": {},
   "outputs": [
    {
     "ename": "NameError",
     "evalue": "name 'train' is not defined",
     "output_type": "error",
     "traceback": [
      "\u001b[0;31m---------------------------------------------------------------------------\u001b[0m",
      "\u001b[0;31mNameError\u001b[0m                                 Traceback (most recent call last)",
      "\u001b[0;32m/tmp/ipykernel_9384/2004461312.py\u001b[0m in \u001b[0;36m<module>\u001b[0;34m\u001b[0m\n\u001b[1;32m      2\u001b[0m \u001b[0;32mfrom\u001b[0m \u001b[0mbird_info\u001b[0m \u001b[0;32mimport\u001b[0m \u001b[0mBird_info\u001b[0m\u001b[0;34m\u001b[0m\u001b[0;34m\u001b[0m\u001b[0m\n\u001b[1;32m      3\u001b[0m \u001b[0mall_birds\u001b[0m \u001b[0;34m=\u001b[0m \u001b[0mBird_info\u001b[0m\u001b[0;34m(\u001b[0m\u001b[0;34m)\u001b[0m\u001b[0;34m\u001b[0m\u001b[0;34m\u001b[0m\u001b[0m\n\u001b[0;32m----> 4\u001b[0;31m \u001b[0mall_birds\u001b[0m\u001b[0;34m.\u001b[0m\u001b[0mvisualise_images\u001b[0m\u001b[0;34m(\u001b[0m\u001b[0;34m)\u001b[0m\u001b[0;34m\u001b[0m\u001b[0;34m\u001b[0m\u001b[0m\n\u001b[0m",
      "\u001b[0;32m~/uni/birdwatch/BirdWatch/bird_info.py\u001b[0m in \u001b[0;36mvisualise_images\u001b[0;34m(self, latin)\u001b[0m\n\u001b[1;32m     17\u001b[0m \u001b[0;34m\u001b[0m\u001b[0m\n\u001b[1;32m     18\u001b[0m         \u001b[0mplt\u001b[0m\u001b[0;34m.\u001b[0m\u001b[0mfigure\u001b[0m\u001b[0;34m(\u001b[0m\u001b[0mfigsize\u001b[0m\u001b[0;34m=\u001b[0m\u001b[0;34m(\u001b[0m\u001b[0;36m30\u001b[0m\u001b[0;34m,\u001b[0m \u001b[0;36m30\u001b[0m\u001b[0;34m)\u001b[0m\u001b[0;34m)\u001b[0m\u001b[0;34m\u001b[0m\u001b[0;34m\u001b[0m\u001b[0m\n\u001b[0;32m---> 19\u001b[0;31m         \u001b[0;32mfor\u001b[0m \u001b[0mimages\u001b[0m\u001b[0;34m,\u001b[0m \u001b[0mcategories\u001b[0m \u001b[0;32min\u001b[0m \u001b[0mtrain\u001b[0m\u001b[0;34m.\u001b[0m\u001b[0mtake\u001b[0m\u001b[0;34m(\u001b[0m\u001b[0;36m1\u001b[0m\u001b[0;34m)\u001b[0m\u001b[0;34m:\u001b[0m\u001b[0;34m\u001b[0m\u001b[0;34m\u001b[0m\u001b[0m\n\u001b[0m\u001b[1;32m     20\u001b[0m             \u001b[0;32mfor\u001b[0m \u001b[0mi\u001b[0m \u001b[0;32min\u001b[0m \u001b[0mrange\u001b[0m\u001b[0;34m(\u001b[0m\u001b[0;36m9\u001b[0m\u001b[0;34m)\u001b[0m\u001b[0;34m:\u001b[0m\u001b[0;34m\u001b[0m\u001b[0;34m\u001b[0m\u001b[0m\n\u001b[1;32m     21\u001b[0m                 \u001b[0max\u001b[0m \u001b[0;34m=\u001b[0m \u001b[0mplt\u001b[0m\u001b[0;34m.\u001b[0m\u001b[0msubplot\u001b[0m\u001b[0;34m(\u001b[0m\u001b[0;36m3\u001b[0m\u001b[0;34m,\u001b[0m \u001b[0;36m3\u001b[0m\u001b[0;34m,\u001b[0m \u001b[0mi\u001b[0m \u001b[0;34m+\u001b[0m \u001b[0;36m1\u001b[0m\u001b[0;34m)\u001b[0m\u001b[0;34m\u001b[0m\u001b[0;34m\u001b[0m\u001b[0m\n",
      "\u001b[0;31mNameError\u001b[0m: name 'train' is not defined"
     ]
    },
    {
     "data": {
      "text/plain": [
       "<Figure size 2160x2160 with 0 Axes>"
      ]
     },
     "metadata": {},
     "output_type": "display_data"
    }
   ],
   "source": [
    "import bird_info\n",
    "from bird_info import Bird_info\n",
    "all_birds = Bird_info()\n",
    "all_birds.visualise_images(train=train)"
   ]
  },
  {
   "cell_type": "code",
   "execution_count": null,
   "id": "ec72e1d6-f253-4b89-80c8-c577deaa3883",
   "metadata": {},
   "outputs": [],
   "source": [
    "data_augmentation = tf.keras.Sequential(\n",
    "    [\n",
    "        tf.keras.layers.RandomFlip(\"horizontal\"),\n",
    "        tf.keras.layers.RandomRotation(0.1),\n",
    "    ]\n",
    ")"
   ]
  },
  {
   "cell_type": "code",
   "execution_count": null,
   "id": "7d7c8162-0802-4fb4-8a36-b62809027585",
   "metadata": {},
   "outputs": [],
   "source": [
    "plt.figure(figsize=(10, 10))\n",
    "for images, _ in train.take(1):\n",
    "    for i in range(9):\n",
    "        augmented_images = data_augmentation(images)\n",
    "        ax = plt.subplot(3, 3, i + 1)\n",
    "        plt.imshow(augmented_images[0].numpy().astype(\"uint8\"))\n",
    "        plt.axis(\"off\")"
   ]
  },
  {
   "cell_type": "code",
   "execution_count": null,
   "id": "c83abbf1-2980-4cad-97dc-4dd3d15ce3c6",
   "metadata": {},
   "outputs": [],
   "source": [
    "inputs = keras.Input(shape=(256,256,3))\n",
    "x = data_augmentation(inputs)\n",
    "x = keras.layers.Rescaling(1./255)(x)"
   ]
  },
  {
   "cell_type": "code",
   "execution_count": null,
   "id": "130316f6-f3e6-409a-bef7-c766f13ad63a",
   "metadata": {},
   "outputs": [],
   "source": [
    "print(type(x))"
   ]
  },
  {
   "cell_type": "code",
   "execution_count": null,
   "id": "68c9fa9e-313e-452f-a31d-401bb4e72c06",
   "metadata": {},
   "outputs": [],
   "source": [
    "image_size=(256,256)"
   ]
  },
  {
   "cell_type": "code",
   "execution_count": null,
   "id": "3b559e75-77f1-49cd-b14c-e2d9a126e7da",
   "metadata": {},
   "outputs": [],
   "source": [
    "def leNet_5_max_pool():\n",
    "    model = keras.Sequential()\n",
    "    \n",
    "    \n",
    "\n",
    "    model.add(layers.Conv2D(filters=6, kernel_size=(5, 5), strides=1, padding=\"valid\", activation='relu', input_shape=(256,256,3)))\n",
    "    model.add(layers.MaxPooling2D(pool_size=(2,2), strides=2, padding=\"valid\"))\n",
    "\n",
    "    model.add(layers.Conv2D(filters=16, kernel_size=(5, 5), strides=1, padding=\"valid\", activation='relu'))\n",
    "    model.add(layers.MaxPooling2D(pool_size=(2,2), strides=2, padding=\"valid\"))\n",
    "\n",
    "    model.add(layers.Flatten())\n",
    "    \n",
    "    model.add(layers.Dropout(0.5))\n",
    "\n",
    "    model.add(layers.Dense(units=120, activation='relu'))\n",
    "\n",
    "    model.add(layers.Dense(units=84, activation='relu'))\n",
    "\n",
    "    model.add(layers.Dense(units=10, activation = 'softmax'))\n",
    "    return model"
   ]
  },
  {
   "cell_type": "code",
   "execution_count": null,
   "id": "a6dfe16e-33b8-42d4-97e0-0cc9d9babc2b",
   "metadata": {},
   "outputs": [],
   "source": [
    "def alexNet():\n",
    "        #Instantiation\n",
    "    AlexNet = keras.Sequential()\n",
    "\n",
    "    #1st Convolutional Layer\n",
    "    AlexNet.add(Conv2D(filters=96, input_shape=(256, 256,3), kernel_size=(11,11), strides=(4,4), padding='same'))\n",
    "    AlexNet.add(BatchNormalization())\n",
    "    AlexNet.add(Activation('relu'))\n",
    "    AlexNet.add(MaxPooling2D(pool_size=(2,2), strides=(2,2), padding='same'))\n",
    "\n",
    "    #2nd Convolutional Layer\n",
    "    AlexNet.add(Conv2D(filters=256, kernel_size=(5, 5), strides=(1,1), padding='same'))\n",
    "    AlexNet.add(BatchNormalization())\n",
    "    AlexNet.add(Activation('relu'))\n",
    "    AlexNet.add(MaxPooling2D(pool_size=(2,2), strides=(2,2), padding='same'))\n",
    "\n",
    "    #3rd Convolutional Layer\n",
    "    AlexNet.add(Conv2D(filters=384, kernel_size=(3,3), strides=(1,1), padding='same'))\n",
    "    AlexNet.add(BatchNormalization())\n",
    "    AlexNet.add(Activation('relu'))\n",
    "\n",
    "    #4th Convolutional Layer\n",
    "    AlexNet.add(Conv2D(filters=384, kernel_size=(3,3), strides=(1,1), padding='same'))\n",
    "    AlexNet.add(BatchNormalization())\n",
    "    AlexNet.add(Activation('relu'))\n",
    "\n",
    "    #5th Convolutional Layer\n",
    "    AlexNet.add(Conv2D(filters=256, kernel_size=(3,3), strides=(1,1), padding='same'))\n",
    "    AlexNet.add(BatchNormalization())\n",
    "    AlexNet.add(Activation('relu'))\n",
    "    AlexNet.add(MaxPooling2D(pool_size=(2,2), strides=(2,2), padding='same'))\n",
    "\n",
    "    #Passing it to a Fully Connected layer\n",
    "    AlexNet.add(Flatten())\n",
    "    # 1st Fully Connected Layer\n",
    "    AlexNet.add(Dense(4096, input_shape=(32,32,3,)))\n",
    "    AlexNet.add(BatchNormalization())\n",
    "    AlexNet.add(Activation('relu'))\n",
    "    # Add Dropout to prevent overfitting\n",
    "    AlexNet.add(Dropout(0.4))\n",
    "\n",
    "    #2nd Fully Connected Layer\n",
    "    AlexNet.add(Dense(4096))\n",
    "    AlexNet.add(BatchNormalization())\n",
    "    AlexNet.add(Activation('relu'))\n",
    "    #Add Dropout\n",
    "    AlexNet.add(Dropout(0.4))\n",
    "\n",
    "    #3rd Fully Connected Layer\n",
    "    AlexNet.add(Dense(1000))\n",
    "    AlexNet.add(BatchNormalization())\n",
    "    AlexNet.add(Activation('relu'))\n",
    "    #Add Dropout\n",
    "    AlexNet.add(Dropout(0.4))\n",
    "\n",
    "    #Output Layer\n",
    "    AlexNet.add(Dense(10))\n",
    "    AlexNet.add(BatchNormalization())\n",
    "    AlexNet.add(Activation('softmax'))\n",
    "    \n",
    "    return AlexNet"
   ]
  },
  {
   "cell_type": "code",
   "execution_count": null,
   "id": "f5a563db-d4ae-414b-81e0-19b5a24a4b19",
   "metadata": {},
   "outputs": [],
   "source": [
    "m=alexNet()\n",
    "\n",
    "m.compile(loss=keras.losses.categorical_crossentropy, optimizer=keras.optimizers.Adam(), metrics=['accuracy', tf.keras.metrics.Recall()])"
   ]
  },
  {
   "cell_type": "code",
   "execution_count": null,
   "id": "6988af90-199e-475c-8e0b-a2c979320b28",
   "metadata": {},
   "outputs": [],
   "source": [
    "h=m.fit(train,epochs=40, verbose=1)"
   ]
  },
  {
   "cell_type": "code",
   "execution_count": null,
   "id": "7168a401-eb6b-408c-8cf8-a2d66514d87b",
   "metadata": {},
   "outputs": [],
   "source": [
    "m.evaluate(test)"
   ]
  },
  {
   "cell_type": "code",
   "execution_count": null,
   "id": "55e9eed7-0615-48b0-8f20-760ef466296b",
   "metadata": {},
   "outputs": [],
   "source": [
    "h"
   ]
  },
  {
   "cell_type": "code",
   "execution_count": null,
   "id": "c81ae4f6-195f-41d1-91c4-e07e643f251e",
   "metadata": {},
   "outputs": [],
   "source": []
  }
 ],
 "metadata": {
  "kernelspec": {
   "display_name": "Python 3 (ipykernel)",
   "language": "python",
   "name": "python3"
  },
  "language_info": {
   "codemirror_mode": {
    "name": "ipython",
    "version": 3
   },
   "file_extension": ".py",
   "mimetype": "text/x-python",
   "name": "python",
   "nbconvert_exporter": "python",
   "pygments_lexer": "ipython3",
   "version": "3.8.10"
  }
 },
 "nbformat": 4,
 "nbformat_minor": 5
}
