{
 "cells": [
  {
   "cell_type": "code",
   "execution_count": 13,
   "id": "cb8dcc4a-b19c-467a-9336-24d5a4b93534",
   "metadata": {},
   "outputs": [],
   "source": [
    "import matplotlib.pyplot as plt\n",
    "import numpy as np\n",
    "import math"
   ]
  },
  {
   "cell_type": "code",
   "execution_count": 14,
   "id": "22eed04b-78d6-47b0-9422-b8d442ea8241",
   "metadata": {},
   "outputs": [],
   "source": [
    "data = np.load(\"np_arrays/images_and_labels.npy\", allow_pickle=True)"
   ]
  },
  {
   "cell_type": "code",
   "execution_count": 15,
   "id": "ecfe2c87-a9f0-4213-bd01-a347440de239",
   "metadata": {},
   "outputs": [],
   "source": [
    "names = np.load(\"np_arrays/name.npy\", allow_pickle=True)"
   ]
  },
  {
   "cell_type": "code",
   "execution_count": 16,
   "id": "c22d0182-98a8-4ac7-a82b-c653ff6fc13f",
   "metadata": {},
   "outputs": [],
   "source": [
    "index = 0\n",
    "images=data[:,0]\n",
    "labels=data[:,1]\n",
    "image_quality=data[:,2]\n",
    "while(image_quality[index]!=0 and index <3000):\n",
    "    index=index+1"
   ]
  },
  {
   "cell_type": "code",
   "execution_count": 17,
   "id": "eab1061b-d9b1-4119-8c73-a715405c4d44",
   "metadata": {},
   "outputs": [
    {
     "name": "stdout",
     "output_type": "stream",
     "text": [
      "1931\n"
     ]
    }
   ],
   "source": [
    "print(index)"
   ]
  },
  {
   "cell_type": "code",
   "execution_count": 21,
   "id": "57edc7b8-a32b-4469-8ba3-90f370c8c69d",
   "metadata": {},
   "outputs": [],
   "source": [
    "def get_image(n_index):\n",
    "    # plt.figsize=(256,256)\n",
    "    plt.imshow(images[n_index])\n",
    "    name_index= 0 if index<=0 else math.floor((n_index-1)/300) \n",
    "    print(n_index)\n",
    "    plt.title(names[name_index])\n",
    "    plt.show()"
   ]
  },
  {
   "cell_type": "code",
   "execution_count": null,
   "id": "83770bcc-65b6-470b-901f-09a49df12acd",
   "metadata": {},
   "outputs": [],
   "source": [
    "while(True):\n",
    "    get_image(index)\n",
    "    inp=input(\"Rate image quality:\\n 1:Excellent\\n 2:Good\\n 3:Average\\n 4:Poor \\n 5:Very Poor\\n 0:Quit\")\n",
    "    inp=int(inp)\n",
    "    if(inp==0):\n",
    "        np.save(\"np_arrays/images_and_labels.npy\", data)\n",
    "        np.save(\"np_arrays/image_quality.npy\", data[:,2])\n",
    "        break\n",
    "    elif inp > 5 and inp < 0:\n",
    "        print(\"Invlid input\")\n",
    "    else:\n",
    "        data[index][2]=inp\n",
    "        index+=1\n",
    "              "
   ]
  },
  {
   "cell_type": "code",
   "execution_count": null,
   "id": "78adc389-4f0f-4654-b179-a90fd7eacf34",
   "metadata": {},
   "outputs": [],
   "source": [
    "np.unique(data[1:1600,2], return_counts=True)\n"
   ]
  },
  {
   "cell_type": "code",
   "execution_count": null,
   "id": "af4f1d9a-d9c5-41da-8a10-c674cb7dc601",
   "metadata": {},
   "outputs": [],
   "source": [
    "np.save(\"np_arrays/images_and_labels.npy\", data)\n",
    "np.save(\"np_arrays/image_quality.npy\", data[:,2])"
   ]
  },
  {
   "cell_type": "code",
   "execution_count": null,
   "id": "52b004b5-088a-4240-9ae6-d532424233d7",
   "metadata": {},
   "outputs": [],
   "source": [
    "np.save(\"image_quality.npy\", data[:,2])"
   ]
  },
  {
   "cell_type": "code",
   "execution_count": null,
   "id": "1dba78e8-f62e-4ba0-8ff2-1f4052883e57",
   "metadata": {},
   "outputs": [],
   "source": []
  }
 ],
 "metadata": {
  "kernelspec": {
   "display_name": "Python 3 (ipykernel)",
   "language": "python",
   "name": "python3"
  },
  "language_info": {
   "codemirror_mode": {
    "name": "ipython",
    "version": 3
   },
   "file_extension": ".py",
   "mimetype": "text/x-python",
   "name": "python",
   "nbconvert_exporter": "python",
   "pygments_lexer": "ipython3",
   "version": "3.8.10"
  }
 },
 "nbformat": 4,
 "nbformat_minor": 5
}
