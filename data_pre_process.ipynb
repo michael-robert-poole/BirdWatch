{
 "cells": [
  {
   "cell_type": "markdown",
   "id": "880474ff-d037-44b2-8c9f-93b31d45d3de",
   "metadata": {},
   "source": [
    "## Data Preprocessing\n",
    "\n",
    "#### Steps:\n",
    "\n",
    "<div> \n",
    "&#8211; Load all images with quality classification<br>\n",
    "&#8211; Filter data to only include images classified higher than a threashold <br>\n",
    "&#8211; Resize images so they are correct size for inputting into CNN <br>\n",
    "&#8211; Save directory contatining filtered and resized images <br>\n",
    "\n",
    "</div>"
   ]
  },
  {
   "cell_type": "code",
   "execution_count": 2,
   "id": "bb7d08bb-8f07-4b49-8c7f-f256868eeb6b",
   "metadata": {},
   "outputs": [],
   "source": [
    "import os\n",
    "import cv2\n",
    "import numpy as np\n",
    "import pandas as pd\n",
    "import py_files \n",
    "from py_files import load_data, bird_info, const\n",
    "import warnings\n",
    "warnings.filterwarnings('ignore')"
   ]
  },
  {
   "cell_type": "code",
   "execution_count": 3,
   "id": "8783cd56-be4a-421e-936f-dbb8e807f67b",
   "metadata": {},
   "outputs": [
    {
     "name": "stdout",
     "output_type": "stream",
     "text": [
      "Loading images....\n",
      "0_common_blackbird\n",
      "1_house_sparrow\n",
      "2_great_tit\n",
      "3_wood_pigeon\n",
      "4_europen_robin\n",
      "5_eurasian_magpie\n",
      "6_eurasian_blue_tit\n",
      "7_common_starling\n",
      "8_european_goldfinch\n",
      "9_long_tailed_tit\n"
     ]
    }
   ],
   "source": [
    "#Load images\n",
    "images, labels = load_data.load_data_from_folder(\"birds\")"
   ]
  },
  {
   "cell_type": "code",
   "execution_count": 4,
   "id": "83d501e1-238b-492f-aaef-1e6543e79835",
   "metadata": {},
   "outputs": [],
   "source": [
    "#Load quality classification - images and classification have a matching index\n",
    "image_quality = np.load(\"image_quality_dir/all_birds.npy\", allow_pickle=True) "
   ]
  },
  {
   "cell_type": "code",
   "execution_count": 5,
   "id": "b4ddd510-00e5-4886-a17b-60c7a5bb01f8",
   "metadata": {},
   "outputs": [],
   "source": [
    "images_np = np.array(images)\n",
    "labels_np = np.array(labels)\n",
    "image_quality_np = np.array(image_quality)"
   ]
  },
  {
   "cell_type": "code",
   "execution_count": 6,
   "id": "76003aba-8a8e-48d4-a78f-3c0bab8f9612",
   "metadata": {},
   "outputs": [],
   "source": [
    "pd_data=pd.DataFrame(columns=['Images', 'Labels', 'Image_Quality'])\n",
    "pd_data['Images']=images\n",
    "pd_data['Labels']=labels_np\n",
    "pd_data['Image_Quality']=image_quality_np"
   ]
  },
  {
   "cell_type": "code",
   "execution_count": 7,
   "id": "742f92f3-1d1a-46f5-ba57-50795b72248e",
   "metadata": {},
   "outputs": [
    {
     "data": {
      "text/html": [
       "<div>\n",
       "<style scoped>\n",
       "    .dataframe tbody tr th:only-of-type {\n",
       "        vertical-align: middle;\n",
       "    }\n",
       "\n",
       "    .dataframe tbody tr th {\n",
       "        vertical-align: top;\n",
       "    }\n",
       "\n",
       "    .dataframe thead th {\n",
       "        text-align: right;\n",
       "    }\n",
       "</style>\n",
       "<table border=\"1\" class=\"dataframe\">\n",
       "  <thead>\n",
       "    <tr style=\"text-align: right;\">\n",
       "      <th></th>\n",
       "      <th>Images</th>\n",
       "      <th>Labels</th>\n",
       "      <th>Image_Quality</th>\n",
       "    </tr>\n",
       "  </thead>\n",
       "  <tbody>\n",
       "    <tr>\n",
       "      <th>0</th>\n",
       "      <td>[[[210, 206, 197], [210, 207, 198], [188, 185,...</td>\n",
       "      <td>0</td>\n",
       "      <td>2</td>\n",
       "    </tr>\n",
       "    <tr>\n",
       "      <th>1</th>\n",
       "      <td>[[[63, 94, 34], [63, 94, 37], [68, 96, 45], [6...</td>\n",
       "      <td>0</td>\n",
       "      <td>3</td>\n",
       "    </tr>\n",
       "    <tr>\n",
       "      <th>2</th>\n",
       "      <td>[[[13, 19, 9], [3, 8, 1], [8, 13, 6], [7, 9, 4...</td>\n",
       "      <td>0</td>\n",
       "      <td>4</td>\n",
       "    </tr>\n",
       "    <tr>\n",
       "      <th>3</th>\n",
       "      <td>[[[131, 137, 137], [133, 138, 141], [134, 139,...</td>\n",
       "      <td>0</td>\n",
       "      <td>2</td>\n",
       "    </tr>\n",
       "    <tr>\n",
       "      <th>4</th>\n",
       "      <td>[[[219, 230, 232], [219, 230, 232], [219, 230,...</td>\n",
       "      <td>0</td>\n",
       "      <td>3</td>\n",
       "    </tr>\n",
       "  </tbody>\n",
       "</table>\n",
       "</div>"
      ],
      "text/plain": [
       "                                              Images  Labels Image_Quality\n",
       "0  [[[210, 206, 197], [210, 207, 198], [188, 185,...       0             2\n",
       "1  [[[63, 94, 34], [63, 94, 37], [68, 96, 45], [6...       0             3\n",
       "2  [[[13, 19, 9], [3, 8, 1], [8, 13, 6], [7, 9, 4...       0             4\n",
       "3  [[[131, 137, 137], [133, 138, 141], [134, 139,...       0             2\n",
       "4  [[[219, 230, 232], [219, 230, 232], [219, 230,...       0             3"
      ]
     },
     "execution_count": 7,
     "metadata": {},
     "output_type": "execute_result"
    }
   ],
   "source": [
    "pd_data.head()"
   ]
  },
  {
   "cell_type": "code",
   "execution_count": 8,
   "id": "dd3484c6-9b06-499a-8cb9-1f415546b2f3",
   "metadata": {},
   "outputs": [],
   "source": [
    "def filter_data_by_image_quality(quality_boundary):\n",
    "    df=pd_data[pd_data['Image_Quality']<=quality_boundary]\n",
    "    return df"
   ]
  },
  {
   "cell_type": "code",
   "execution_count": 9,
   "id": "44f2a4ce-aaae-43e0-b14e-9532fdc17a43",
   "metadata": {},
   "outputs": [],
   "source": [
    "filtered_df=filter_data_by_image_quality(2)\n",
    "\n",
    "def resize_images(df):\n",
    "    resize_images=[]\n",
    "    for i in df.index:\n",
    "        resize_images.append(cv2.resize(df['Images'].loc[i], (256,256)))\n",
    "    return resize_images\n",
    "filtered_df['Images'] = resize_images(filtered_df)"
   ]
  },
  {
   "cell_type": "code",
   "execution_count": 10,
   "id": "225a3f8a-c833-4755-a171-3c7480bb81e1",
   "metadata": {},
   "outputs": [],
   "source": [
    "image_quality_np_f = np.array(filtered_df['Image_Quality'])"
   ]
  },
  {
   "cell_type": "code",
   "execution_count": 12,
   "id": "bc1a20ce-54f5-49d2-9b28-54b7b07f3a74",
   "metadata": {},
   "outputs": [],
   "source": [
    "# Save directory to be used to train CNN\n",
    "for index_f in filtered_df.index:\n",
    "    img=filtered_df['Images'][index_f]\n",
    "    label_index=filtered_df['Labels'][index_f]\n",
    "    path=const.BIRDS_DICT[label_index][1]\n",
    "    path=path.replace(' ', '_').lower()\n",
    "    path= str(label_index)+\"_\"+path\n",
    "    if not os.path.exists(\"filtered_birds/\"+path):\n",
    "        os.mkdir(\"filtered_birds/\"+path)\n",
    "    cv2.imwrite(\"filtered_birds/\"+path+\"/\" + path + \"_img_\" + str(index_f) + \".jpeg\", img)"
   ]
  },
  {
   "cell_type": "code",
   "execution_count": 13,
   "id": "575772a0-17a4-417a-8f5e-bc57a9a05281",
   "metadata": {},
   "outputs": [],
   "source": [
    "np.save(\"image_quality_dir/filtered_birds_002.npy\", image_quality_np_f)"
   ]
  },
  {
   "cell_type": "code",
   "execution_count": null,
   "id": "cd013e3f-c5c8-44e7-84ac-79af1f1d56d2",
   "metadata": {},
   "outputs": [],
   "source": []
  }
 ],
 "metadata": {
  "kernelspec": {
   "display_name": "Python 3 (ipykernel)",
   "language": "python",
   "name": "python3"
  },
  "language_info": {
   "codemirror_mode": {
    "name": "ipython",
    "version": 3
   },
   "file_extension": ".py",
   "mimetype": "text/x-python",
   "name": "python",
   "nbconvert_exporter": "python",
   "pygments_lexer": "ipython3",
   "version": "3.8.10"
  }
 },
 "nbformat": 4,
 "nbformat_minor": 5
}
