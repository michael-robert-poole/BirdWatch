{
 "cells": [
  {
   "cell_type": "code",
   "execution_count": 1,
   "id": "eea9f366-16a6-488d-84a4-2ec08b4256c7",
   "metadata": {},
   "outputs": [],
   "source": [
    "import os\n",
    "import cv2\n",
    "import numpy as np\n",
    "import pandas as pd"
   ]
  },
  {
   "cell_type": "code",
   "execution_count": 7,
   "id": "8783cd56-be4a-421e-936f-dbb8e807f67b",
   "metadata": {},
   "outputs": [
    {
     "name": "stdout",
     "output_type": "stream",
     "text": [
      "04284_Animalia_Chordata_Aves_Passeriformes_Turdidae_Turdus_merula\n",
      "04133_Animalia_Chordata_Aves_Passeriformes_Passeridae_Passer_domesticus\n",
      "04034_Animalia_Chordata_Aves_Passeriformes_Paridae_Parus_major\n",
      "03516_Animalia_Chordata_Aves_Columbiformes_Columbidae_Columba_palumbus\n",
      "03978_Animalia_Chordata_Aves_Passeriformes_Muscicapidae_Erithacus_rubecula\n",
      "03775_Animalia_Chordata_Aves_Passeriformes_Corvidae_Pica_pica\n",
      "04031_Animalia_Chordata_Aves_Passeriformes_Paridae_Cyanistes_caeruleus\n",
      "04202_Animalia_Chordata_Aves_Passeriformes_Sturnidae_Sturnus_vulgaris\n",
      "03809_Animalia_Chordata_Aves_Passeriformes_Fringillidae_Carduelis_carduelis\n",
      "03688_Animalia_Chordata_Aves_Passeriformes_Aegithalidae_Aegithalos_caudatus\n"
     ]
    }
   ],
   "source": [
    "images = []\n",
    "labels = []\n",
    "label = 0\n",
    "name=[]\n",
    "\n",
    "parent_folder = os.listdir(\"val_ten_uk_birds/\")\n",
    "\n",
    "for f in parent_folder:\n",
    "    print(f)\n",
    "    sub_folder=os.listdir(\"val_ten_uk_birds/\"+f)\n",
    "    name.append(f)\n",
    "    for image in sub_folder:\n",
    "        \n",
    "        theImage=cv2.imread(\"val_ten_uk_birds/\"+f+\"/\"+image)\n",
    "        theImage=cv2.resize(theImage,(256,256))\n",
    "        images.append(theImage)\n",
    "        labels.append(label)\n",
    "    label=label+1"
   ]
  },
  {
   "cell_type": "code",
   "execution_count": 8,
   "id": "44f2a4ce-aaae-43e0-b14e-9532fdc17a43",
   "metadata": {},
   "outputs": [],
   "source": [
    "data=[]\n",
    "for i in range(len(images)):\n",
    "    data.append([images[i], labels[i]])"
   ]
  },
  {
   "cell_type": "code",
   "execution_count": 9,
   "id": "dc44b14d-d200-460f-9f2d-82e7cac12d1c",
   "metadata": {},
   "outputs": [
    {
     "name": "stderr",
     "output_type": "stream",
     "text": [
      "/tmp/ipykernel_12478/2775985548.py:1: VisibleDeprecationWarning: Creating an ndarray from ragged nested sequences (which is a list-or-tuple of lists-or-tuples-or ndarrays with different lengths or shapes) is deprecated. If you meant to do this, you must specify 'dtype=object' when creating the ndarray\n",
      "  data=np.array(data)\n"
     ]
    }
   ],
   "source": [
    "\n",
    "data=np.array(data)\n",
    "images=np.array(images)\n",
    "labels=np.array(labels)\n",
    "name=np.array(name)\n",
    "np.save(\"np_arrays/images_and_labels_test.npy\", data)\n",
    "np.save(\"np_arrays/images.npy_test\", images)\n",
    "np.save(\"np_arrays/labels.npy_test\", labels)\n",
    "np.save(\"np_arrays/name_test.npy\", name)"
   ]
  },
  {
   "cell_type": "code",
   "execution_count": null,
   "id": "3cd9b473-1a6b-4f74-9ec4-985540a3225d",
   "metadata": {},
   "outputs": [],
   "source": []
  },
  {
   "cell_type": "code",
   "execution_count": 10,
   "id": "24e61aad-53f9-4bab-89d1-fbfb098e12c6",
   "metadata": {},
   "outputs": [],
   "source": [
    "pd_data=pd.DataFrame(data, columns=[\"Image\" ,\"Label\"])"
   ]
  },
  {
   "cell_type": "code",
   "execution_count": 11,
   "id": "e5d8cc77-cc7e-4e49-b0bd-15bdac2b64ec",
   "metadata": {},
   "outputs": [
    {
     "data": {
      "text/html": [
       "<div>\n",
       "<style scoped>\n",
       "    .dataframe tbody tr th:only-of-type {\n",
       "        vertical-align: middle;\n",
       "    }\n",
       "\n",
       "    .dataframe tbody tr th {\n",
       "        vertical-align: top;\n",
       "    }\n",
       "\n",
       "    .dataframe thead th {\n",
       "        text-align: right;\n",
       "    }\n",
       "</style>\n",
       "<table border=\"1\" class=\"dataframe\">\n",
       "  <thead>\n",
       "    <tr style=\"text-align: right;\">\n",
       "      <th></th>\n",
       "      <th>Image</th>\n",
       "      <th>Label</th>\n",
       "    </tr>\n",
       "  </thead>\n",
       "  <tbody>\n",
       "    <tr>\n",
       "      <th>0</th>\n",
       "      <td>[[[218, 219, 209], [217, 218, 208], [217, 218,...</td>\n",
       "      <td>0</td>\n",
       "    </tr>\n",
       "    <tr>\n",
       "      <th>1</th>\n",
       "      <td>[[[121, 138, 124], [122, 137, 123], [124, 136,...</td>\n",
       "      <td>0</td>\n",
       "    </tr>\n",
       "    <tr>\n",
       "      <th>2</th>\n",
       "      <td>[[[65, 166, 115], [59, 158, 111], [64, 157, 11...</td>\n",
       "      <td>0</td>\n",
       "    </tr>\n",
       "    <tr>\n",
       "      <th>3</th>\n",
       "      <td>[[[164, 136, 105], [191, 164, 134], [185, 157,...</td>\n",
       "      <td>0</td>\n",
       "    </tr>\n",
       "    <tr>\n",
       "      <th>4</th>\n",
       "      <td>[[[70, 110, 91], [68, 110, 91], [70, 113, 92],...</td>\n",
       "      <td>0</td>\n",
       "    </tr>\n",
       "  </tbody>\n",
       "</table>\n",
       "</div>"
      ],
      "text/plain": [
       "                                               Image Label\n",
       "0  [[[218, 219, 209], [217, 218, 208], [217, 218,...     0\n",
       "1  [[[121, 138, 124], [122, 137, 123], [124, 136,...     0\n",
       "2  [[[65, 166, 115], [59, 158, 111], [64, 157, 11...     0\n",
       "3  [[[164, 136, 105], [191, 164, 134], [185, 157,...     0\n",
       "4  [[[70, 110, 91], [68, 110, 91], [70, 113, 92],...     0"
      ]
     },
     "execution_count": 11,
     "metadata": {},
     "output_type": "execute_result"
    }
   ],
   "source": [
    "pd_data.head()"
   ]
  },
  {
   "cell_type": "code",
   "execution_count": 12,
   "id": "8983e347-7a15-4aaf-a5e1-eecd8b8accf4",
   "metadata": {},
   "outputs": [],
   "source": [
    "pd_data.to_csv('np_arrays/pd_data_test.csv')"
   ]
  },
  {
   "cell_type": "code",
   "execution_count": 16,
   "id": "b0fa7977-2968-46b3-9a5f-b152ef964647",
   "metadata": {},
   "outputs": [
    {
     "data": {
      "text/plain": [
       "0    10\n",
       "1    10\n",
       "2    10\n",
       "3    10\n",
       "4    10\n",
       "5    10\n",
       "6    10\n",
       "7    10\n",
       "8    10\n",
       "9    10\n",
       "Name: Label, dtype: int64"
      ]
     },
     "execution_count": 16,
     "metadata": {},
     "output_type": "execute_result"
    }
   ],
   "source": [
    "pd.value_counts(pd_data['Label'])"
   ]
  },
  {
   "cell_type": "code",
   "execution_count": 29,
   "id": "23d0ff9f-8be0-43f5-a4e3-1edee96bcfff",
   "metadata": {},
   "outputs": [
    {
     "ename": "TypeError",
     "evalue": "Can't convert object of type 'numpy.ndarray' to 'str' for 'filename'",
     "output_type": "error",
     "traceback": [
      "\u001b[0;31m---------------------------------------------------------------------------\u001b[0m",
      "\u001b[0;31mTypeError\u001b[0m                                 Traceback (most recent call last)",
      "\u001b[0;32m/tmp/ipykernel_8738/3642031108.py\u001b[0m in \u001b[0;36m<module>\u001b[0;34m\u001b[0m\n\u001b[1;32m      1\u001b[0m \u001b[0mi\u001b[0m \u001b[0;34m=\u001b[0m \u001b[0;34m[\u001b[0m\u001b[0;34m]\u001b[0m\u001b[0;34m\u001b[0m\u001b[0;34m\u001b[0m\u001b[0m\n\u001b[1;32m      2\u001b[0m \u001b[0;32mfor\u001b[0m \u001b[0mk\u001b[0m \u001b[0;32min\u001b[0m \u001b[0mx\u001b[0m\u001b[0;34m[\u001b[0m\u001b[0;34m'Image'\u001b[0m\u001b[0;34m]\u001b[0m\u001b[0;34m:\u001b[0m\u001b[0;34m\u001b[0m\u001b[0;34m\u001b[0m\u001b[0m\n\u001b[0;32m----> 3\u001b[0;31m     \u001b[0ms\u001b[0m \u001b[0;34m=\u001b[0m \u001b[0mcv2\u001b[0m\u001b[0;34m.\u001b[0m\u001b[0mimread\u001b[0m\u001b[0;34m(\u001b[0m\u001b[0mnp\u001b[0m\u001b[0;34m.\u001b[0m\u001b[0marray\u001b[0m\u001b[0;34m(\u001b[0m\u001b[0mk\u001b[0m\u001b[0;34m)\u001b[0m\u001b[0;34m)\u001b[0m\u001b[0;34m\u001b[0m\u001b[0;34m\u001b[0m\u001b[0m\n\u001b[0m\u001b[1;32m      4\u001b[0m     \u001b[0mprint\u001b[0m\u001b[0;34m(\u001b[0m\u001b[0ms\u001b[0m\u001b[0;34m)\u001b[0m\u001b[0;34m\u001b[0m\u001b[0;34m\u001b[0m\u001b[0m\n\u001b[1;32m      5\u001b[0m     \u001b[0mi\u001b[0m\u001b[0;34m.\u001b[0m\u001b[0mappend\u001b[0m\u001b[0;34m(\u001b[0m\u001b[0ms\u001b[0m\u001b[0;34m)\u001b[0m\u001b[0;34m\u001b[0m\u001b[0;34m\u001b[0m\u001b[0m\n",
      "\u001b[0;31mTypeError\u001b[0m: Can't convert object of type 'numpy.ndarray' to 'str' for 'filename'"
     ]
    }
   ],
   "source": [
    "i = []\n",
    "for k in x['Image']:\n",
    "    s = cv2.imread(np.array(k))\n",
    "    print(s)\n",
    "    i.append(s)\n",
    "    j=1\n",
    "    if j == 1:\n",
    "        break"
   ]
  },
  {
   "cell_type": "code",
   "execution_count": 25,
   "id": "f2fbaf58-b9c7-4636-b22b-169cb3f1de7a",
   "metadata": {},
   "outputs": [],
   "source": [
    "import matplotlib.pyplot as plt"
   ]
  },
  {
   "cell_type": "code",
   "execution_count": 26,
   "id": "9be9bb59-476c-4ebf-a16a-bf555078ffd8",
   "metadata": {},
   "outputs": [
    {
     "name": "stdout",
     "output_type": "stream",
     "text": [
      "[None]\n"
     ]
    }
   ],
   "source": [
    "print(i)"
   ]
  },
  {
   "cell_type": "code",
   "execution_count": null,
   "id": "cd013e3f-c5c8-44e7-84ac-79af1f1d56d2",
   "metadata": {},
   "outputs": [],
   "source": []
  }
 ],
 "metadata": {
  "kernelspec": {
   "display_name": "Python 3 (ipykernel)",
   "language": "python",
   "name": "python3"
  },
  "language_info": {
   "codemirror_mode": {
    "name": "ipython",
    "version": 3
   },
   "file_extension": ".py",
   "mimetype": "text/x-python",
   "name": "python",
   "nbconvert_exporter": "python",
   "pygments_lexer": "ipython3",
   "version": "3.8.10"
  }
 },
 "nbformat": 4,
 "nbformat_minor": 5
}
