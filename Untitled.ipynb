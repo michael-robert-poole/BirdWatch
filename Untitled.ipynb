{
 "cells": [
  {
   "cell_type": "code",
   "execution_count": 6,
   "id": "eea9f366-16a6-488d-84a4-2ec08b4256c7",
   "metadata": {},
   "outputs": [],
   "source": [
    "import os\n",
    "import cv2\n",
    "import numpy as np"
   ]
  },
  {
   "cell_type": "code",
   "execution_count": 7,
   "id": "8783cd56-be4a-421e-936f-dbb8e807f67b",
   "metadata": {},
   "outputs": [],
   "source": [
    "images = []\n",
    "labels = []\n",
    "label = 0\n",
    "name=[]\n",
    "\n",
    "parent_folder = os.listdir(\"birds\")\n",
    "\n",
    "for f in parent_folder:\n",
    "    sub_folder=os.listdir(\"birds/\"+f)\n",
    "    name.append(f)\n",
    "    for image in sub_folder:\n",
    "        \n",
    "        theImage=cv2.imread(\"birds/\"+f+\"/\"+image, cv2.IMREAD_COLOR)\n",
    "        images.append(theImage)\n",
    "        labels.append(label)\n",
    "    label=label+1"
   ]
  },
  {
   "cell_type": "code",
   "execution_count": 8,
   "id": "44f2a4ce-aaae-43e0-b14e-9532fdc17a43",
   "metadata": {},
   "outputs": [],
   "source": [
    "data=[]\n",
    "for i in range(len(images)):\n",
    "    data.append([images[i], labels[i], 0])"
   ]
  },
  {
   "cell_type": "code",
   "execution_count": 18,
   "id": "dc44b14d-d200-460f-9f2d-82e7cac12d1c",
   "metadata": {},
   "outputs": [],
   "source": [
    "import numpy as np\n",
    "data=np.array(data)\n",
    "images=np.array(images)\n",
    "labels=np.array(labels)\n",
    "name=np.array(name)\n",
    "np.save(\"./images.npy\", images)\n",
    "np.save(\"./labels.npy\", labels)\n",
    "np.save(\"./name.npy\", name)"
   ]
  },
  {
   "cell_type": "code",
   "execution_count": 19,
   "id": "9a484bdc-f7e3-4b75-9b3d-729090bd7742",
   "metadata": {},
   "outputs": [],
   "source": [
    "d=np.load(\"./labels.npy\", allow_pickle=True)"
   ]
  },
  {
   "cell_type": "code",
   "execution_count": 22,
   "id": "0e72a924-ef28-436c-8e57-eba394052ce7",
   "metadata": {},
   "outputs": [
    {
     "data": {
      "text/plain": [
       "(array([ 0,  1,  2,  3,  4,  5,  7,  8,  9, 10]),\n",
       " array([300, 300, 300, 300, 300, 300, 300, 300, 300, 300]))"
      ]
     },
     "execution_count": 22,
     "metadata": {},
     "output_type": "execute_result"
    }
   ],
   "source": [
    "np.unique(d, return_counts=True)"
   ]
  },
  {
   "cell_type": "code",
   "execution_count": null,
   "id": "3cd9b473-1a6b-4f74-9ec4-985540a3225d",
   "metadata": {},
   "outputs": [],
   "source": []
  }
 ],
 "metadata": {
  "kernelspec": {
   "display_name": "Python 3 (ipykernel)",
   "language": "python",
   "name": "python3"
  },
  "language_info": {
   "codemirror_mode": {
    "name": "ipython",
    "version": 3
   },
   "file_extension": ".py",
   "mimetype": "text/x-python",
   "name": "python",
   "nbconvert_exporter": "python",
   "pygments_lexer": "ipython3",
   "version": "3.8.10"
  }
 },
 "nbformat": 4,
 "nbformat_minor": 5
}
